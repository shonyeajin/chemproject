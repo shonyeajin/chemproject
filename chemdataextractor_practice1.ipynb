{
  "nbformat": 4,
  "nbformat_minor": 0,
  "metadata": {
    "colab": {
      "name": "chemdataextractor_practice1",
      "provenance": [],
      "mount_file_id": "15iSJyiR7RS9oagtt1E2NUb5gv0yRRU3I",
      "authorship_tag": "ABX9TyPpElRcJsps/sicS7gor+gT",
      "include_colab_link": true
    },
    "kernelspec": {
      "name": "python3",
      "display_name": "Python 3"
    },
    "language_info": {
      "name": "python"
    }
  },
  "cells": [
    {
      "cell_type": "markdown",
      "metadata": {
        "id": "view-in-github",
        "colab_type": "text"
      },
      "source": [
        "<a href=\"https://colab.research.google.com/github/shonyeajin/chemproject/blob/main/chemdataextractor_practice1.ipynb\" target=\"_parent\"><img src=\"https://colab.research.google.com/assets/colab-badge.svg\" alt=\"Open In Colab\"/></a>"
      ]
    },
    {
      "cell_type": "code",
      "execution_count": 1,
      "metadata": {
        "colab": {
          "base_uri": "https://localhost:8080/"
        },
        "id": "MnKFpWe16OdO",
        "outputId": "b3bf5455-f63b-4d88-fd6b-d08378595271"
      },
      "outputs": [
        {
          "output_type": "stream",
          "name": "stdout",
          "text": [
            "Collecting chemdataextractor\n",
            "  Downloading ChemDataExtractor-1.3.0-py3-none-any.whl (182 kB)\n",
            "\u001b[?25l\r\u001b[K     |█▉                              | 10 kB 21.0 MB/s eta 0:00:01\r\u001b[K     |███▋                            | 20 kB 23.5 MB/s eta 0:00:01\r\u001b[K     |█████▍                          | 30 kB 13.0 MB/s eta 0:00:01\r\u001b[K     |███████▏                        | 40 kB 8.7 MB/s eta 0:00:01\r\u001b[K     |█████████                       | 51 kB 6.8 MB/s eta 0:00:01\r\u001b[K     |██████████▊                     | 61 kB 8.0 MB/s eta 0:00:01\r\u001b[K     |████████████▌                   | 71 kB 8.5 MB/s eta 0:00:01\r\u001b[K     |██████████████▍                 | 81 kB 7.7 MB/s eta 0:00:01\r\u001b[K     |████████████████▏               | 92 kB 8.4 MB/s eta 0:00:01\r\u001b[K     |██████████████████              | 102 kB 8.9 MB/s eta 0:00:01\r\u001b[K     |███████████████████▊            | 112 kB 8.9 MB/s eta 0:00:01\r\u001b[K     |█████████████████████▌          | 122 kB 8.9 MB/s eta 0:00:01\r\u001b[K     |███████████████████████▎        | 133 kB 8.9 MB/s eta 0:00:01\r\u001b[K     |█████████████████████████       | 143 kB 8.9 MB/s eta 0:00:01\r\u001b[K     |██████████████████████████▉     | 153 kB 8.9 MB/s eta 0:00:01\r\u001b[K     |████████████████████████████▊   | 163 kB 8.9 MB/s eta 0:00:01\r\u001b[K     |██████████████████████████████▌ | 174 kB 8.9 MB/s eta 0:00:01\r\u001b[K     |████████████████████████████████| 182 kB 8.9 MB/s \n",
            "\u001b[?25hRequirement already satisfied: PyYAML in /usr/local/lib/python3.7/dist-packages (from chemdataextractor) (3.13)\n",
            "Requirement already satisfied: beautifulsoup4 in /usr/local/lib/python3.7/dist-packages (from chemdataextractor) (4.6.3)\n",
            "Requirement already satisfied: requests in /usr/local/lib/python3.7/dist-packages (from chemdataextractor) (2.23.0)\n",
            "Requirement already satisfied: lxml in /usr/local/lib/python3.7/dist-packages (from chemdataextractor) (4.2.6)\n",
            "Requirement already satisfied: appdirs in /usr/local/lib/python3.7/dist-packages (from chemdataextractor) (1.4.4)\n",
            "Collecting cssselect\n",
            "  Downloading cssselect-1.1.0-py2.py3-none-any.whl (16 kB)\n",
            "Requirement already satisfied: click in /usr/local/lib/python3.7/dist-packages (from chemdataextractor) (7.1.2)\n",
            "Collecting pdfminer.six\n",
            "  Downloading pdfminer.six-20220319-py3-none-any.whl (5.6 MB)\n",
            "\u001b[K     |████████████████████████████████| 5.6 MB 33.4 MB/s \n",
            "\u001b[?25hRequirement already satisfied: six in /usr/local/lib/python3.7/dist-packages (from chemdataextractor) (1.15.0)\n",
            "Collecting DAWG\n",
            "  Downloading DAWG-0.8.0.tar.gz (371 kB)\n",
            "\u001b[K     |████████████████████████████████| 371 kB 48.5 MB/s \n",
            "\u001b[?25hRequirement already satisfied: python-dateutil in /usr/local/lib/python3.7/dist-packages (from chemdataextractor) (2.8.2)\n",
            "Collecting python-crfsuite\n",
            "  Downloading python_crfsuite-0.9.7-cp37-cp37m-manylinux1_x86_64.whl (743 kB)\n",
            "\u001b[K     |████████████████████████████████| 743 kB 42.0 MB/s \n",
            "\u001b[?25hRequirement already satisfied: nltk in /usr/local/lib/python3.7/dist-packages (from chemdataextractor) (3.2.5)\n",
            "Requirement already satisfied: chardet in /usr/local/lib/python3.7/dist-packages (from pdfminer.six->chemdataextractor) (3.0.4)\n",
            "Collecting cryptography\n",
            "  Downloading cryptography-36.0.2-cp36-abi3-manylinux_2_24_x86_64.whl (3.6 MB)\n",
            "\u001b[K     |████████████████████████████████| 3.6 MB 43.9 MB/s \n",
            "\u001b[?25hRequirement already satisfied: cffi>=1.12 in /usr/local/lib/python3.7/dist-packages (from cryptography->pdfminer.six->chemdataextractor) (1.15.0)\n",
            "Requirement already satisfied: pycparser in /usr/local/lib/python3.7/dist-packages (from cffi>=1.12->cryptography->pdfminer.six->chemdataextractor) (2.21)\n",
            "Requirement already satisfied: urllib3!=1.25.0,!=1.25.1,<1.26,>=1.21.1 in /usr/local/lib/python3.7/dist-packages (from requests->chemdataextractor) (1.24.3)\n",
            "Requirement already satisfied: idna<3,>=2.5 in /usr/local/lib/python3.7/dist-packages (from requests->chemdataextractor) (2.10)\n",
            "Requirement already satisfied: certifi>=2017.4.17 in /usr/local/lib/python3.7/dist-packages (from requests->chemdataextractor) (2021.10.8)\n",
            "Building wheels for collected packages: DAWG\n",
            "  Building wheel for DAWG (setup.py) ... \u001b[?25l\u001b[?25hdone\n",
            "  Created wheel for DAWG: filename=DAWG-0.8.0-cp37-cp37m-linux_x86_64.whl size=860901 sha256=f1ea68d43a4f89188d24b9584b9b2c61e7ab2ad5a80911988957ec54d57a54ff\n",
            "  Stored in directory: /root/.cache/pip/wheels/85/51/a4/2de41ff197786537075027c27b479a38da92f50abc86634445\n",
            "Successfully built DAWG\n",
            "Installing collected packages: cryptography, python-crfsuite, pdfminer.six, DAWG, cssselect, chemdataextractor\n",
            "Successfully installed DAWG-0.8.0 chemdataextractor-1.3.0 cryptography-36.0.2 cssselect-1.1.0 pdfminer.six-20220319 python-crfsuite-0.9.7\n"
          ]
        }
      ],
      "source": [
        "!pip install chemdataextractor"
      ]
    },
    {
      "cell_type": "code",
      "source": [
        "!cde data download"
      ],
      "metadata": {
        "colab": {
          "base_uri": "https://localhost:8080/"
        },
        "id": "jUM0h0Qe6g2V",
        "outputId": "f7e38d67-f61b-47bb-b091-de62cf283304"
      },
      "execution_count": 2,
      "outputs": [
        {
          "output_type": "stream",
          "name": "stdout",
          "text": [
            "INFO:chemdataextractor.data:Downloading http://data.chemdataextractor.org/models/cem_crf-1.0.pickle to /root/.local/share/ChemDataExtractor/models/cem_crf-1.0.pickle\n",
            "INFO:chemdataextractor.data:Downloading http://data.chemdataextractor.org/models/cem_crf_chemdner_cemp-1.0.pickle to /root/.local/share/ChemDataExtractor/models/cem_crf_chemdner_cemp-1.0.pickle\n",
            "INFO:chemdataextractor.data:Downloading http://data.chemdataextractor.org/models/cem_dict_cs-1.0.pickle to /root/.local/share/ChemDataExtractor/models/cem_dict_cs-1.0.pickle\n",
            "INFO:chemdataextractor.data:Downloading http://data.chemdataextractor.org/models/cem_dict-1.0.pickle to /root/.local/share/ChemDataExtractor/models/cem_dict-1.0.pickle\n",
            "INFO:chemdataextractor.data:Downloading http://data.chemdataextractor.org/models/clusters_chem1500-1.0.pickle to /root/.local/share/ChemDataExtractor/models/clusters_chem1500-1.0.pickle\n",
            "INFO:chemdataextractor.data:Downloading http://data.chemdataextractor.org/models/pos_ap_genia_nocluster-1.0.pickle to /root/.local/share/ChemDataExtractor/models/pos_ap_genia_nocluster-1.0.pickle\n",
            "INFO:chemdataextractor.data:Downloading http://data.chemdataextractor.org/models/pos_ap_genia-1.0.pickle to /root/.local/share/ChemDataExtractor/models/pos_ap_genia-1.0.pickle\n",
            "INFO:chemdataextractor.data:Downloading http://data.chemdataextractor.org/models/pos_ap_wsj_genia_nocluster-1.0.pickle to /root/.local/share/ChemDataExtractor/models/pos_ap_wsj_genia_nocluster-1.0.pickle\n",
            "INFO:chemdataextractor.data:Downloading http://data.chemdataextractor.org/models/pos_ap_wsj_genia-1.0.pickle to /root/.local/share/ChemDataExtractor/models/pos_ap_wsj_genia-1.0.pickle\n",
            "INFO:chemdataextractor.data:Downloading http://data.chemdataextractor.org/models/pos_ap_wsj_nocluster-1.0.pickle to /root/.local/share/ChemDataExtractor/models/pos_ap_wsj_nocluster-1.0.pickle\n",
            "INFO:chemdataextractor.data:Downloading http://data.chemdataextractor.org/models/pos_ap_wsj-1.0.pickle to /root/.local/share/ChemDataExtractor/models/pos_ap_wsj-1.0.pickle\n",
            "INFO:chemdataextractor.data:Downloading http://data.chemdataextractor.org/models/pos_crf_genia_nocluster-1.0.pickle to /root/.local/share/ChemDataExtractor/models/pos_crf_genia_nocluster-1.0.pickle\n",
            "INFO:chemdataextractor.data:Downloading http://data.chemdataextractor.org/models/pos_crf_genia-1.0.pickle to /root/.local/share/ChemDataExtractor/models/pos_crf_genia-1.0.pickle\n",
            "INFO:chemdataextractor.data:Downloading http://data.chemdataextractor.org/models/pos_crf_wsj_genia_nocluster-1.0.pickle to /root/.local/share/ChemDataExtractor/models/pos_crf_wsj_genia_nocluster-1.0.pickle\n",
            "INFO:chemdataextractor.data:Downloading http://data.chemdataextractor.org/models/pos_crf_wsj_genia-1.0.pickle to /root/.local/share/ChemDataExtractor/models/pos_crf_wsj_genia-1.0.pickle\n",
            "INFO:chemdataextractor.data:Downloading http://data.chemdataextractor.org/models/pos_crf_wsj_nocluster-1.0.pickle to /root/.local/share/ChemDataExtractor/models/pos_crf_wsj_nocluster-1.0.pickle\n",
            "INFO:chemdataextractor.data:Downloading http://data.chemdataextractor.org/models/pos_crf_wsj-1.0.pickle to /root/.local/share/ChemDataExtractor/models/pos_crf_wsj-1.0.pickle\n",
            "INFO:chemdataextractor.data:Downloading http://data.chemdataextractor.org/models/punkt_chem-1.0.pickle to /root/.local/share/ChemDataExtractor/models/punkt_chem-1.0.pickle\n",
            "Successfully downloaded 18 new data packages (0 existing)\n"
          ]
        }
      ]
    },
    {
      "cell_type": "code",
      "source": [
        "from chemdataextractor import Document\n",
        "\n",
        "doc=Document('UV-vis spectrum of 5,10,15,20-Tetra(4-carboxyphenyl)porphyrin in Tetrahydrofuran (THF).')"
      ],
      "metadata": {
        "id": "ULYi8vD96srl"
      },
      "execution_count": 3,
      "outputs": []
    },
    {
      "cell_type": "code",
      "source": [
        "doc.cems"
      ],
      "metadata": {
        "colab": {
          "base_uri": "https://localhost:8080/"
        },
        "id": "_sAtzY0u7L0Z",
        "outputId": "730ee05b-3196-4870-a3d7-1c0dbac80b7f"
      },
      "execution_count": 4,
      "outputs": [
        {
          "output_type": "execute_result",
          "data": {
            "text/plain": [
              "[Span('5,10,15,20-Tetra(4-carboxyphenyl)porphyrin', 19, 61),\n",
              " Span('Tetrahydrofuran', 65, 80),\n",
              " Span('THF', 82, 85)]"
            ]
          },
          "metadata": {},
          "execution_count": 4
        }
      ]
    },
    {
      "cell_type": "code",
      "source": [
        "doc.abbreviation_definitions"
      ],
      "metadata": {
        "colab": {
          "base_uri": "https://localhost:8080/"
        },
        "id": "WqUKVwC17OBL",
        "outputId": "f159457c-bf83-42a9-c307-f8bd04073894"
      },
      "execution_count": 5,
      "outputs": [
        {
          "output_type": "execute_result",
          "data": {
            "text/plain": [
              "[(['THF'], ['Tetrahydrofuran'], 'CM')]"
            ]
          },
          "metadata": {},
          "execution_count": 5
        }
      ]
    },
    {
      "cell_type": "code",
      "source": [
        "doc.records"
      ],
      "metadata": {
        "colab": {
          "base_uri": "https://localhost:8080/"
        },
        "id": "0rhoG3mu7b9V",
        "outputId": "f044f2a4-c3fc-408e-ce3a-68a84f146f3f"
      },
      "execution_count": 6,
      "outputs": [
        {
          "output_type": "execute_result",
          "data": {
            "text/plain": [
              "[<Compound>, <Compound>]"
            ]
          },
          "metadata": {},
          "execution_count": 6
        }
      ]
    },
    {
      "cell_type": "code",
      "source": [
        "doc.records[0].serialize()"
      ],
      "metadata": {
        "colab": {
          "base_uri": "https://localhost:8080/"
        },
        "id": "qj1SsP647hK5",
        "outputId": "beaf7efc-22d7-4504-b868-e397c6361e11"
      },
      "execution_count": 7,
      "outputs": [
        {
          "output_type": "execute_result",
          "data": {
            "text/plain": [
              "{'names': ['5,10,15,20-Tetra(4-carboxyphenyl)porphyrin']}"
            ]
          },
          "metadata": {},
          "execution_count": 7
        }
      ]
    },
    {
      "cell_type": "code",
      "source": [
        "doc.records[1].serialize()"
      ],
      "metadata": {
        "colab": {
          "base_uri": "https://localhost:8080/"
        },
        "id": "i8Wh54ap7lvC",
        "outputId": "8719a49c-628f-4f25-88c4-41b75956e414"
      },
      "execution_count": 8,
      "outputs": [
        {
          "output_type": "execute_result",
          "data": {
            "text/plain": [
              "{'names': ['Tetrahydrofuran', 'THF']}"
            ]
          },
          "metadata": {},
          "execution_count": 8
        }
      ]
    },
    {
      "cell_type": "code",
      "source": [
        "from chemdataextractor.reader import PdfReader, HtmlReader\n",
        "\n",
        "f=open(\"/content/drive/MyDrive/Colab Notebooks/chemproject/example2.html\",'rb')\n",
        "doc=Document.from_file(f, readers=[HtmlReader()])"
      ],
      "metadata": {
        "id": "b670dwJ071C8"
      },
      "execution_count": 38,
      "outputs": []
    },
    {
      "cell_type": "code",
      "source": [
        "doc.elements"
      ],
      "metadata": {
        "colab": {
          "base_uri": "https://localhost:8080/"
        },
        "id": "mGK08EjV-lai",
        "outputId": "d326704e-3504-442c-d397-d6552d7db5ae"
      },
      "execution_count": 39,
      "outputs": [
        {
          "output_type": "execute_result",
          "data": {
            "text/plain": [
              "[Paragraph(id=None, references=[], text='Ionic thermoelectric paper - Journal of Materials Chemistry A (RSC Publishing) DOI:10.1039/C7TA03196C'),\n",
              " Paragraph(id='wrapper', references=[], text='View\\xa0PDF\\xa0VersionPrevious\\xa0ArticleNext\\xa0Article'),\n",
              " Paragraph(id='wrapper', references=[], text=' Open Access Article'),\n",
              " Paragraph(id='wrapper', references=[], text='\\nThis Open Access Article is licensed under a '),\n",
              " Paragraph(id='wrapper', references=[], text='Creative Commons Attribution 3.0 Unported Licence'),\n",
              " Paragraph(id='wrapper', references=[], text=' DOI:\\xa010.1039/C7TA03196C\\n(Paper)\\nJ. Mater. Chem. A, 2017, 5, 16883-16888'),\n",
              " Title(id='sect178', references=[], text='Ionic thermoelectric paper†'),\n",
              " Paragraph(id='wrapper', references=[], text='\\n\\nFei\\nJiao\\na,\\n\\nAli\\nNaderi\\nb,\\n\\nDan\\nZhao\\na,\\n\\nJoshua\\nSchlueter\\nc,\\n\\nMaryam\\nShahi\\nc,\\n\\nJonas\\nSundström\\nd,\\n\\nHjalmar\\nGranberg\\nd,\\n\\nJesper\\nEdberg\\na,\\n\\nUjwala\\nAil\\na,\\n\\nJoseph\\nBrill\\nc,\\n\\nTom\\nLindström\\nd,\\n\\nMagnus\\nBerggren\\na and \\n\\nXavier\\nCrispin\\n*a\\n'),\n",
              " Paragraph(id='affa', references=[], text='aDepartment of Science and Technology, Linköping Universitet, SE-60174, Norrköping, Sweden. E-mail: Xavier.crispin@liu.se\\n'),\n",
              " Paragraph(id='affb', references=[], text='bBillerudkorsnäs AB, SE-71880 Frövi, Sweden\\n'),\n",
              " Paragraph(id='affc', references=[], text='cDepartment of Physics and Astronomy, University of Kentucky, Lexington, KY 40506-0055, USA\\n'),\n",
              " Paragraph(id='affd', references=[], text='dInnventia AB, Box 5604, SE-11486 Stockholm, Sweden\\n'),\n",
              " Paragraph(id='art-admin', references=[], text='Received\\n12th April 2017\\n, Accepted 29th June 2017'),\n",
              " Paragraph(id='wrapper', references=[], text='First published on 30th June 2017'),\n",
              " Heading(id=None, references=[], text='Abstract'),\n",
              " Paragraph(id='wrapper', references=[], text='Ionic thermoelectric materials, for example, polyelectrolytes such as polystyrene sulfonate sodium (PSSNa), constitute a new class of materials which are attracting interest because of their large Seebeck coefficient and the possibility that they could be used in ionic thermoelectric SCs (ITESCs) and field effect transistors. However, pure polyelectrolyte membranes are not robust or flexible. In this paper, the preparation of ionic thermoelectric paper using a simple, scalable and cost-effective method is described. After a composite was fabricated with nanofibrillated cellulose (NFC), the resulting NFC–PSSNa paper is flexible and mechanically robust, which is desirable if it is to be used in roll-to-roll processes. The robust NFC–PSSNa thermoelectric paper combines high ionic conductivity (9 mS cm−1), high ionic Seebeck coefficient (8.4 mV K−1) and low thermal conductivity (0.75 W m−1 K−1) at 100% relative humidity, resulting in overall figure-of-merit of 0.025 at room temperature which is slightly better than that for the PSSNa alone. Fabricating a composite with cellulose enables flexibility and robustness and this is an advance which will enable future scaling up the manufacturing of ITESCs, but also enables its use for new applications for conformable thermoelectric devices and flexible electronics.'),\n",
              " Heading(id='sect292', references=[], text='Introduction'),\n",
              " Paragraph(id='wrapper', references=[], text='\\nAccess to clean and sustainable energy is of paramount importance for the development of human society. Typically, 60% of fossil energy is lost in waste heat. Today, various technologies have been proposed to harvest electricity from the largest energy source, the sun, but neither solar thermal plants nor photovoltaic power plants are that efficient and a large proportion of the solar radiation is lost in heat. Thus, several strategies are currently being explored beyond the use of heat engines in order to convert heat into electricity. One of these approaches is the thermoelectric generator (TEG).2,3 TEGs are defined as solid state devices that can convert heat (temperature differences) directly into electrical energy through a phenomenon called the Seebeck effect arising from the thermo-diffusion of electronic charge carriers in a material. The efficiency of a thermoelectric material is evaluated using a dimensionless quantity called the figure-of-merit, ZT = α2σT/κ, where α, σ, T and κ represent the Seebeck coefficient, the electrical conductivity, the absolute temperature and the thermal conductivity, respectively. Among the various types of material classes,3 organic electronic conducting polymers have attracted increased attention because they are based on abundant atomic elements and thus are potentially scalable at low cost. Despite the tremendous efforts and accomplishments of recent years,4–12 the efficiency of organic thermoelectric devices remains quite low because of their relatively small Seebeck coefficient. One possible strategy to increase the Seebeck coefficient of conducting polymers is to add solvent into the polymer to change its morphology.13 Whereas, another strategy is the addition of ionic thermodiffusion in mixed ionic-electronic conductors.14 Indeed, an ionic Seebeck contribution up to several hundreds of μV K−1 can be added to the electronic Seebeck coefficient. However, this effect vanishes with time because of the electronic reorganization. But if the electronic conducting paths are removed, for example, for pure ionic conductors, such as polystyrene sulfonic acid (PSSH), the ionic Seebeck coefficient was found to be extremely large and stable with time (∼a few mV K−1).15\\n'),\n",
              " Paragraph(id='wrapper', references=[], text='Recently, two classes of material have been explored for use in thermoelectricity: ionic conductors16–18 and electrolytes.19 A thermovoltage is developed in an ionic conductor submitted to a temperature difference because of the so-called Soret effect (thermodiffusion of ions). This new research area has been motivated by the use of the large ionic thermovoltage for example to (i) charge a SC leading to the so-called “ionic thermoelectric supercapacitors” (ITESCs)16 or (ii) to switch on/off transistors in “ionic thermoelectric transistors”.20 The ITESC is a single device comparable to an organic thermoelectric generator (OTEG) coupled in series with a supercapacitor (SC) of equivalent capacitance C. Importantly, because the ionic Seebeck coefficient of ionic conducting polymers (5 mV K−1)17 is about 100 times higher than the electronic Seebeck coefficient in electronic conducting polymers (50 μV K−1),4 the electrical energy E stored in an ITESC is 10000 times higher than in a SC coupled to an OTEG [E = 1/2C (αΔT)2]. A recent study shows that charging an ITESC can be compared with charging a TEG-SC based on the thermoelectric figure-of-merit ZT, which in the case of an ionic conductor implies that the electrical conductivity is solely because of ionic transport and the Seebeck coefficient is because of the thermodiffusion of ions.1 Interestingly, high ionic Seebeck coefficients were found for wet solid state polyelectrolytes such as polystyrene sulfonate sodium (PSSNa)1 and PSSH.17'),\n",
              " Paragraph(id='wrapper', references=[], text='Ideally the ionic thermoelectric material should be flexible, so that the ITESC is able to conform to the shape of any hot/cold objects (for example a pipe). Unfortunately polyelectrolytes are fragile and brittle. Also, making ionic thermoelectric materials robust would enable the use of a roll-to-roll machine for the production and assembly of the ITESC. ITESC and TEG are devices that produce a voltage proportional to the temperature difference. Thus, high voltage, i.e., high energy storage, is achievable if the material is thick and of low thermal conductivity. All these requirements need to be met as well as having a high ionic conductivity and high ionic Seebeck coefficient. One approach already demonstrated to strengthen the mechanical properties of materials is to make a composite with cellulose. Cellulose is attractive because it is a cheap, renewable and biodegradable material with good mechanical properties and is scalable for mass implementation.21 There have been many reports about fabricating composites with cellulose for use with electrical conductors for SC electrode,22 and electrolyte23 applications with excellent electronic and ionic conductivity. But no one has ever studied the thermoelectric properties of the cellulose-electrolyte.'),\n",
              " Paragraph(id='wrapper', references=[], text='In this research, a polymer nano-composite was fabricated using nanofibrillated cellulose (NFC), and the polyelectrolyte PSSNa and then its thermoelectric properties were characterized. The chemical structure of the biopolymer cellulose24 and PSSNa are illustrated in Fig. 1a. NFC is composed of cellulose polymer chains aggregated in nanofibers.25,26 They have several key properties which are of interest here: extraordinary mechanical properties,27 high transparency,28 lightweight29 and a large specific surface area.30 The NFC–PSSNa composite is mechanically robust and flexible compared to PSSNa. Despite the presence of NFC, the ionic conductivity and the ionic Seebeck coefficient of NFC–PSSNa is similar to PSSNa. Thus, this new composite is the first demonstration of ionic thermoelectric paper.'),\n",
              " Table(id=None, references=[], caption=''),\n",
              " Heading(id='sect348', references=[], text='Results and discussion'),\n",
              " Paragraph(id='wrapper', references=[], text='\\nThe PSSNa films were prepared by simply casting a water solution and letting the solvent evaporate. The NFC–PSSNa composite of same thickness (∼60 μm) as the PSSNa film was prepared from a NFC water dispersion, with addition of PSSNa and high boiling point solvents [glycerol, dimethylsulfoxide (DMSO)], then followed by casting and evaporation of the solvents. After peeling off the film, the estimated weight percent ratio of the composite film was 24.8% NFC, 53% PSSNa, and 22.2% of the remaining solvents. The role of the high boiling solvent was to remain in the film so that the nanofibers did not aggregate strongly with each other, but interstitial nanovoids remained filled with the high boiling point solvent in order to create percolation paths for the transport of ions.31\\n'),\n",
              " Paragraph(id='wrapper', references=[], text=\"The pure PSSNa film was extremely brittle, and it would crack even after drying. The addition of NFC as well as high boiling point solvents to PSSNa leads to a composite of improved mechanical properties: it was now flexible, foldable, and robust (Fig. 1a). Fig. 1b shows the tensile strength of NFC–PSSNa film at different strains and reaching a high value of tensile strength of σT = 16.6 ± 1.5 MPa. The calculated Young's modulus was E = 0.9 ± 0.1 GPa and the strain at break was εT = 10.2% ± 1.2, and the details are shown in Table S1 (ESI†). Although the parameter specification of the composite film is weaker than typical copy paper, the mechanical properties of the NFC–PSSNa film were sufficient for practical handling and could be processed in roll-to-roll machines.\"),\n",
              " Paragraph(id='wrapper', references=[], text='The atomic force microscopy (AFM) images of both films are shown in Fig. 2. The topography image displays a flat surface on the PSSNa film (Fig. 2a) whereas the NFC–PSSNa film is rough and likely to be porous (Fig. 2c). The phase image of the composite shows that the long chains of the cellulose nanofibrils arranged in parallel with the film surface with an individual diameter of about 10–20 nm. Note that the AFM images were taken on samples that had been dried to remove the high boiling point solvents. At the same time, the composite film was relatively transparent (60%), although this value was less than that of pure PSSNa (90%). This indicated that there was a low amount of aggregates which cause light scattering, and that the sample was homogeneous at the submicron scale (details for transparency see Fig. S1, ESI†).'),\n",
              " Table(id=None, references=[], caption=''),\n",
              " Paragraph(id='wrapper', references=[], text='Furthermore, impedance spectroscopy was used to study the ion transport in the paper. The impedance spectrum of composite films under different humidities was measured at room temperature (impedance and phase angle versus frequency as well as a Nyquist plot see Fig. S2 and S3, ESI†). Ionic conductivity was obtained from the real part of the impedance where the phase angle was near zero and was compared with the ionic conductivity of pure PSSNa.1 As shown in Fig. 3a, at 50% relative humidity (RH%), the ionic conductivity of NFC–PSSNa was about 0.04 mS cm−1, which was six times lower than that for PSSNa (0.26 mS cm−1). But the difference in ionic conductivity between these two materials decreased with the increase of humidity, reaching a value of 9 and 12 mS cm−1 for NFC–PSSNa and PSSNa, respectively. Thus, in spite of the introduction of NFC, the ionic conductivity of NFC–PSSNa still remained high. The ionic conductivity in PSSNa increased exponentially with the percentage of humidity in the chamber but was saturated at high humidity levels. This saturation has been explained by the formation of water percolation channels at high humidity.32 Because the ionic conductivity in NFC–PSSNa is as high as that of PSSNa in a humid environment, the ionic transport also occurred in the water percolation paths, but the absence of saturation suggested that the presence of NFC modified the formation of these percolation water channels.'),\n",
              " Table(id=None, references=[], caption=''),\n",
              " Paragraph(id='wrapper', references=[], text='The ionic Seebeck coefficient was also studied at room temperature with humidity from 50 to 100 RH%. At a fixed humidity, the open voltage of different temperature differences, ΔT, was measured and the Seebeck coefficient was calculated from the slope of the fitted curve (for details on open voltage and temperature differences as well as the linear fitting of the Seebeck coefficient see Fig. S4 and S5, ESI†). At ΔT = 0 K, the voltage was extremely small with NFC–PSSNa, whereas there was a residual voltage for PSSNa.1 As shown in Fig. 3b, the ionic Seebeck coefficient of NFC–PSSNa increased from 3 to 8.4 mV K−1 whereas the humidity increased from 50 to 100 RH%. This value was twice as large as that of pure PSSNa1 and was almost two orders higher than the electronic Seebeck coefficient of normal organic thermoelectric materials such as poly(3,4-ethylenedioxythiophene):polystyrene sulfonate (PEDOT:PSS).7'),\n",
              " Paragraph(id='wrapper', references=[], text='The in-plane thermal conductivity of NFC–PSSNa film was evaluated to obtain a comprehensive understanding of its thermoelectric properties. The room temperature specific heat, measured using differential scanning calorimetry (DSC),33 and thermal diffusivity,34,35 measured with AC-calorimetry, were found to be cP = (1.15 ± 0.10) J g−1 K−1 and D = (8.0 ± 0.8) × 10−3 cm2 s−1, respectively (see Fig. S6, ESI†). The uncertainties in D and cP reflected sample dependence, although for a given sample, values were found to be independent of heat treatment and it was assumed that the samples were essentially dehydrated. With the density ρ = (0.97 ± 0.04) g cm−3, the calculated value of the thermal conductivity was κ = DcPρ = (0.9 ± 0.2) W m−1 K−1. Although it was difficult to measure the thermal conductivity under different humidity conditions by these methods, the effects of hydration were estimated by assuming that water entered the films in microdomains large enough to use an effective medium theory36,37 for the composite, in particular assuming that the water domains primarily separate the nanofibers, leading to parallel paths of thermal transport. Then the composite thermal conductivity of hydrated NFC–PSSNa samples was given by κc ≈ κpϕp + κwϕw (κ and ϕ are the thermal conductivity and volume fraction of each material, respectively, and the subscripts c, p and w correspond to the composites, dry NFC–PSSNa, and water, respectively, where κw = 0.6 W m−1 K−1 (ref. 34)). The water content in the composite was measured under different humidity conditions (see Table S2, ESI†), and the water weight and volume fractions were taken to be essentially equal because the density of NFC–PSSNa ≈1 g cm−3. The calculated thermal conductivity of the composite and its comparison with pure PSSNa at 50–100 RH% are shown in Fig. 3c. The evolution of the thermal conductivity versus humidity level of PSSNa and NFC–PSSNa were opposite, reflecting the fact that PSSNa was more thermally insulating than water whereas NFC–PSSNa was less insulating. Finally, ZTi was plotted for both NFC–PSSNa and PSSNa1versus the humidity level and the plots are shown in Fig. 4d. The ZTi increased by more than three orders of magnitude with humidity. At low humidity, the ZTi of NFC–PSSNa (∼10−5) was almost 10 times larger than that of PSSNa because of its large αi. Whereas at higher humidity, the ZTi values of the two materials were similar and about 10−2.'),\n",
              " Table(id=None, references=[], caption=''),\n",
              " Paragraph(id='wrapper', references=[], text='Although ions cannot pass through an external circuit as electrons can, heat could be converted to electrical energy using the concept of ITESC. The performance of ionic thermoelectric materials can be compared with electronic thermoelectrics because an ITESC of capacitance C corresponds to the equivalent circuit of a TEG connected in series with a SC of same capacitance (see the inset of Fig. 4b). It has been demonstrated that the charging efficiency of the ITESC was related to the traditional thermoelectric figure-of-merit including the ionic conductivity and the ionic Seebeck coefficient.1 Thus, the two relevant device quantities were calculated: the efficiency η and the energy stored E as a function of ZTi. As shown in Fig. 4a, the efficiency of the NFC–PSSNa composite was slightly better than that of pure PSSNa, although still much lower than that of commercial bismuth telluride (Bi2Te3) (ZT = 1) because of its relatively small ZTi. But for the comparison of energy transferred to the SC with same ΔT (10 K) and same capacitance (1 mF), the NFC–PSSNa composite performances were much better than those of pure PSSNa and around three orders higher than those with Bi2Te3, as shown in Fig. 4b. The energy transferred to the SC is shown quadratically by αi (E = 1/2CV2 = 1/2C(ΔTαi)2), and the αi of NFC–PSSNa is much larger than that of the PSSNa over the whole range of humidity.'),\n",
              " Heading(id='sect497', references=[], text='Conclusions'),\n",
              " Paragraph(id='wrapper', references=[], text='\\nIn conclusion, the first ionic thermoelectric paper has been demonstrated by making a composite from nanofibrillated cellulose and a polyelectrolyte. The introduction of nanofibers of cellulose led to a robust nanocomposite, not fragile nor brittle as was the pure polyelectrolyte. The thermoelectric properties of the paper composite were as good as the pure polyelectrolyte (ZTi = 0.025 at room temperature). The ionic conductivity of the composite was almost the same as that of pure PSSNa at high humidity and its Seebeck coefficient was higher than that of pure PSSNa. The fabrication of ionic thermoelectric paper opens up new possibilities in term of mass manufacturing of materials for large area ionic thermoelectric SCs. Those devices are designed to convert thermal energy from intermittent heat sources into stored electricity.\\n'),\n",
              " Heading(id='sect502', references=[], text='Experimental'),\n",
              " Heading(id='sect504', references=[], text='Materials'),\n",
              " Paragraph(id='wrapper', references=[], text='\\nGlycerol, DMSO and PSSNa [molecular weight (Mw): 70000 g mol−1] were purchased from Sigma-Aldrich and used as received. NFC (1 wt%) was produced at Innventia AB, Sweden.\\n'),\n",
              " Heading(id='sect510', references=[], text='NFC manufacturing'),\n",
              " Paragraph(id='wrapper', references=[], text='\\nCarboxymethylated NFC was produced by chemically pre-treating wood pulp (trade name Dissolving Plus, supplier Domsjö Fabriker) followed by high-shear mechanical delamination. It was found that through carboxymethylation, anionic carboxymethyl groups were chemically grafted onto the nanofibrils. The charge density of the modified pulp was about 500 μmol g−1, as determined using conductometric studies.\\n'),\n",
              " Heading(id='sect514', references=[], text='Composites preparation'),\n",
              " Paragraph(id='wrapper', references=[], text='\\nThe concentration of the NFC dispersion was diluted to 0.3 wt% before use. A NFC–PSSNa composite film was prepared by mixing PSSNa, NFC solution, glycerol and DMSO at a solid content (excluding water) weight ratio of 13.9/6.5/8.5/71.1. The mixture was homogenized for several minutes using a T10 basic ULTRA-TURRAX (IKA). The blend was then mixed ultrasonically in an ultrasonic bath for 10 min which was then followed by degassing for 1 h in a vacuum desiccator. Free-standing composite films were then prepared by pouring the NFC–PSSNa dispersions into plastic dishes with a diameter of 5.5 cm and then drying them at 60 °C for 24 h. After drying, the films were peeled off and cut into different shapes for the various measurements.\\n'),\n",
              " Heading(id='sect517', references=[], text='Characterization'),\n",
              " Paragraph(id='wrapper', references=[], text='\\nThe in-plane ionic conductivity of the NFC–PSSNa composite films were measured using an Alpha high-resolution dielectric analyzer for the impedance spectrometry (Novocontrol Technologies GmbH) with a two-probe method. The impedance spectra were recorded with an AC voltage of 5 mV while sweeping the frequency from 1 MHz to 0.1 Hz. The samples were put inside a humidity chamber and the measurement was done at room temperature at humidity levels from 50 to 100 RH%. The ionic conductivity was calculated from the real part of the impedance where the phase angle was near zero.\\n'),\n",
              " Paragraph(id='wrapper', references=[], text='The Seebeck coefficient of the composite films was measured at different humidities inside a humidity chamber at room temperature. The voltage difference between the two electrodes was recorded using a model 2182A nanovoltmeter (ΔV) (Keithley Instruments, Inc) and the temperature difference (ΔT) between the two electrodes was evaluated using the thermocouples and measured using a Model 2000 multimeter (Keithley Instruments, Inc). At each humidity, different sets of high and low temperatures with an average of 22.5 °C were applied and the Seebeck coefficient was extracted from the slope of the linear fitted voltage versus temperature difference curves.'),\n",
              " Paragraph(id='wrapper', references=[], text='The specific heats of the samples were measured using DSC at room temperature and the thermal diffusivity, D ≡ κ/ρcP and thermal conductivity κ (in the plane of the film) were measured using the AC-calorimetric technique of Hatta et al.34 In this technique, the sample was heated with chopped white light, which was partly blocked by a screen and the oscillating temperature on the reverse surface was measured with a thermocouple. Because the samples were white and translucent, a 0.3 μm film of lead sulfide was evaporated on the front surface to absorb the light. The diffusivity was determined by the variation of the oscillating thermocouple voltage with position, D = πf/(dln(Vac)/dx)2 (the saturation of the signal for large x0 − x which was because of the edge of the screen reaching the thermocouple glue and the deviations from the linear behavior for small x0 − x were because of the signal approaching the noise level).'),\n",
              " Paragraph(id='wrapper', references=[], text='The transmittance spectra were acquired with a Lambda 900 UV-vis spectrophotometer (PerkinElmer instruments) at room temperature in the range of 400–800 nm.'),\n",
              " Paragraph(id='wrapper', references=[], text='AFM measurement was performed using a Dimension 3100 microscope (Bruker) under ambient conditions with a scan size of 1 × 1 μm.'),\n",
              " Paragraph(id='wrapper', references=[], text='For tensile testing, 30 μm thick samples were cut into 30 × 15 mm test pieces which were measured in a tensile tester (MTS) with the pulling speed of 30 mm (100%)/min = 0.5 mm s−1 at 23 °C and 50 RH%. Data for eight separate samples were collected to monitor statistical variations.'),\n",
              " Heading(id='sect549', references=[], text='Acknowledgements'),\n",
              " Paragraph(id='wrapper', references=[], text='\\nA. N., H. J., J. S. and T. L. contributed to the support of NFC gel and mechanical measurement. D. Z. contributed to AFM. J. S., M. S. and J. B. contributed to the thermal conductivity measurements. J. E. and U. A. contributed to composite preparation and impedance measurements. The authors acknowledge the European Research Council (ERC Starting Grant 307596), the Swedish Foundation for Strategic Research (SSF), the Knut and Alice Wallenberg foundation (KAW), the Swedish Energy Agency, the Advanced Functional Materials Centre at Linköping University and the United States National Science Foundation (Grant No. DMR-1262261). The authors also wish to thank Thor Balkhed from Linköping University for help with the photography.\\n\\n'),\n",
              " Heading(id='sect548', references=[], text='References'),\n",
              " Paragraph(id='cit1', references=[], text='H. Wang, D. Zhao, Z. U. Khan, S. Puzinas, M. P. Jonsson, M. Berggren and X. Crispin, Adv. Electron. Mater., 2017, 1700013, \\xa0DOI:10.1002/aelm.201700013.'),\n",
              " Paragraph(id='cit2', references=[], text='F. J. DiSalvo, Science, 1999, 285, 703–706\\xa0CrossRef\\xa0CAS\\xa0PubMed.'),\n",
              " Paragraph(id='cit3', references=[], text='G. J. Snyder and E. S. Toberer, Nat. Mater., 2008, 7, 105–114\\xa0CrossRef\\xa0CAS\\xa0PubMed.'),\n",
              " Paragraph(id='cit4', references=[], text='O. Bubnova, Z. U. Khan, A. Malti, S. Braun, M. Fahlman, M. Berggren and X. Crispin, Nat. Mater., 2011, 10, 429–433\\xa0CrossRef\\xa0CAS\\xa0PubMed.'),\n",
              " Paragraph(id='cit5', references=[], text='Q. Zhang, Y. M. Sun, W. Xu and D. B. Zhu, Adv. Mater., 2014, 26, 6829–6851\\xa0CrossRef\\xa0CAS\\xa0PubMed.'),\n",
              " Paragraph(id='cit6', references=[], text='G. H. Kim, L. Shao, K. Zhang and K. P. Pipe, Nat. Mater., 2013, 12, 719–723\\xa0CrossRef\\xa0CAS\\xa0PubMed.'),\n",
              " Paragraph(id='cit7', references=[], text='O. Bubnova and X. Crispin, Energy Environ. Sci., 2012, 5, 9345–9362\\xa0CAS.'),\n",
              " Paragraph(id='cit8', references=[], text='Y. Sun, P. Sheng, C. Di, F. Jiao, W. Xu, D. Qiu and D. Zhu, Adv. Mater., 2012, 24, 932–937\\xa0CrossRef\\xa0CAS\\xa0PubMed.'),\n",
              " Paragraph(id='cit9', references=[], text='Y. Sun, L. Qiu, L. Tang, H. Geng, H. Wang, F. Zhang, D. Huang, W. Xu, P. Yue, Y. S. Guan, F. Jiao, Y. Sun, D. Tang, C. A. Di, Y. Yi and D. Zhu, Adv. Mater., 2016, 28, 3351–3358\\xa0CrossRef\\xa0CAS\\xa0PubMed.'),\n",
              " Paragraph(id='cit10', references=[], text='N. Toshima, K. Oshima, H. Anno, T. Nishinaka, S. Ichikawa, A. Iwata and Y. Shiraishi, Adv. Mater., 2015, 27, 2246–2251\\xa0CrossRef\\xa0CAS\\xa0PubMed.'),\n",
              " Paragraph(id='cit11', references=[], text='B. T. McGrail, A. Sehirlioglu and E. Pentzer, Angew. Chem., Int. Ed., 2015, 54, 1710–1723\\xa0CrossRef\\xa0CAS\\xa0PubMed.'),\n",
              " Paragraph(id='cit12', references=[], text='N. Toshima, Synth. Met., 2017, 225, 3–21\\xa0CrossRef\\xa0CAS.'),\n",
              " Paragraph(id='cit13', references=[], text='Q. Wei, M. Mukaida, K. Kirihara, Y. Naitoh and T. Ishida, Appl. Phys. Express, 2014, 7, 031601\\xa0CrossRef.'),\n",
              " Paragraph(id='cit14', references=[], text='H. Wang, U. Ail, R. Gabrielsson, M. Berggren and X. Crispin, Adv. Energy Mater., 2015, 5, 1500044\\xa0CrossRef.'),\n",
              " Paragraph(id='cit15', references=[], text='U. Ail, M. J. Jafari, H. Wang, T. Ederth, M. Berggren and X. Crispin, Adv. Funct. Mater., 2016, 26, 6288–6296\\xa0CrossRef\\xa0CAS.'),\n",
              " Paragraph(id='cit16', references=[], text='D. Zhao, H. Wang, Z. U. Khan, J. C. Chen, R. Gabrielsson, M. P. Jonsson, M. Berggren and X. Crispin, Energy Environ. Sci., 2016, 9, 1450–1457\\xa0CAS.'),\n",
              " Paragraph(id='cit17', references=[], text='S. L. Kim, H. T. Lin and C. Yu, Adv. Energy Mater., 2016, 6, 1600546\\xa0CrossRef.'),\n",
              " Paragraph(id='cit18', references=[], text='W. B. Chang, C. M. Evans, B. C. Popere, B. M. Russ, J. Liu, J. Newman and R. A. Segalman, ACS Macro Lett., 2016, 5, 94–98\\xa0CrossRef\\xa0CAS.'),\n",
              " Paragraph(id='cit19', references=[], text='M. Bonetti, S. Nakamae, M. Roger and P. Guenoun, J. Chem. Phys., 2011, 134, 114513\\xa0CrossRef\\xa0CAS\\xa0PubMed.'),\n",
              " Paragraph(id='cit20', references=[], text='D. Zhao, S. Fabiano, M. Berggren and X. Crispin, Nat. Commun., 2017, 8, 14214\\xa0CrossRef\\xa0CAS\\xa0PubMed.'),\n",
              " Paragraph(id='cit21', references=[], text='M. M. Perez-Madrigal, M. G. Edo and C. Aleman, Green Chem., 2016, 18, 5930–5956\\xa0RSC.'),\n",
              " Paragraph(id='cit22', references=[], text='K. Gao, Z. Shao, J. Li, X. Wang, X. Peng, W. Wang and F. Wang, J. Mater. Chem. A, 2013, 1, 63–67\\xa0CAS.'),\n",
              " Paragraph(id='cit23', references=[], text='Y. N. Sudhakar, M. Selvakumar and D. K. Bhat, Mater. Renew. Sustain. Energy, 2015, 4, 10\\xa0CrossRef.'),\n",
              " Paragraph(id='cit24', references=[], text='Z. Gui, H. Zhu, E. Gillette, X. Han, G. W. Rubloff, L. Hu and S. B. Lee, ACS Nano, 2013, 7, 6037–6046\\xa0CrossRef\\xa0CAS\\xa0PubMed.'),\n",
              " Paragraph(id='cit25', references=[], text='H. P. Abdul Khalil, Y. Davoudpour, M. N. Islam, A. Mustapha, K. Sudesh, R. Dungani and M. Jawaid, Carbohydr. Polym., 2014, 99, 649–665\\xa0CrossRef\\xa0CAS\\xa0PubMed.'),\n",
              " Paragraph(id='cit26', references=[], text='S. Kalia, S. Boufi, A. Celli and S. Kango, Colloid Polym. Sci., 2014, 292, 5–31\\xa0CAS.'),\n",
              " Paragraph(id='cit27', references=[], text='T. Saito, R. Kuramae, J. Wohlert, L. A. Berglund and A. Isogai, Biomacromolecules, 2013, 14, 248–253\\xa0CrossRef\\xa0CAS\\xa0PubMed.'),\n",
              " Paragraph(id='cit28', references=[], text='Y. Y. Li, H. L. Zhu, H. B. Gu, H. Q. Dai, Z. Q. Fang, N. J. Weadock, Z. H. Guo and L. B. Hu, J. Mater. Chem. A, 2013, 1, 15278–15283\\xa0CAS.'),\n",
              " Paragraph(id='cit29', references=[], text='N. T. Cervin, L. Andersson, J. B. Ng, P. Olin, L. Bergstrom and L. Wagberg, Biomacromolecules, 2013, 14, 503–511\\xa0CrossRef\\xa0CAS\\xa0PubMed.'),\n",
              " Paragraph(id='cit30', references=[], text='H. Sehaqui, Q. Zhou, O. Ikkala and L. A. Berglund, Biomacromolecules, 2011, 12, 3638–3644\\xa0CrossRef\\xa0CAS\\xa0PubMed.'),\n",
              " Paragraph(id='cit31', references=[], text='A. Malti, J. Edberg, H. Granberg, Z. U. Khan, J. W. Andreasen, X. Liu, D. Zhao, H. Zhang, Y. Yao, J. W. Brill, I. Engquist, M. Fahlman, L. Wagberg, X. Crispin and M. Berggren, Adv. Sci., 2016, 3, 1500305\\xa0CrossRef\\xa0PubMed.'),\n",
              " Paragraph(id='cit32', references=[], text='J. Feng, Y. Q. Huang, Z. K. Tu, H. N. Zhang, M. Pan and H. L. Tang, Sci. Rep., 2014, 4, 6225\\xa0CrossRef\\xa0PubMed.'),\n",
              " Paragraph(id='cit33', references=[], text='Y. Q. Wang, M. Chung, T. N. Oneal and J. W. Brill, Synth. Met., 1992, 46, 307–316\\xa0CrossRef\\xa0CAS.'),\n",
              " Paragraph(id='cit34', references=[], text='I. Hatta, Y. Sasuga, R. Kato and A. Maesono, Rev. Sci. Instrum., 1985, 56, 1643–1647\\xa0CrossRef\\xa0CAS.'),\n",
              " Paragraph(id='cit35', references=[], text='H. Zhang, Y. Yao, M. M. Payne, J. E. Anthony and J. W. Brill, Appl. Phys. Lett., 2014, 105, 073302\\xa0CrossRef.'),\n",
              " Paragraph(id='cit36', references=[], text='L. L. Gong, Y. H. Wang, X. D. Cheng, R. F. Zhang and H. P. Zhang, Int. J. Heat Mass Transfer, 2014, 68, 295–298\\xa0CrossRef.'),\n",
              " Paragraph(id='cit37', references=[], text='A. Leach, J. Phys. D: Appl. Phys., 1993, 26, 733\\xa0CrossRef\\xa0CAS.'),\n",
              " Table(id=None, references=[], caption=''),\n",
              " Table(id=None, references=[], caption='')]"
            ]
          },
          "metadata": {},
          "execution_count": 39
        }
      ]
    },
    {
      "cell_type": "code",
      "source": [
        "len(doc.elements)"
      ],
      "metadata": {
        "colab": {
          "base_uri": "https://localhost:8080/"
        },
        "id": "ctoCW5S6AztM",
        "outputId": "e1e3367c-b71a-49d9-dabc-469de68a6960"
      },
      "execution_count": 40,
      "outputs": [
        {
          "output_type": "execute_result",
          "data": {
            "text/plain": [
              "91"
            ]
          },
          "metadata": {},
          "execution_count": 40
        }
      ]
    },
    {
      "cell_type": "code",
      "source": [
        "doc.elements"
      ],
      "metadata": {
        "colab": {
          "base_uri": "https://localhost:8080/"
        },
        "id": "355VdcWeAr4f",
        "outputId": "f425cb75-e5ff-44d3-ef2d-91fab6abbcaf"
      },
      "execution_count": 41,
      "outputs": [
        {
          "output_type": "execute_result",
          "data": {
            "text/plain": [
              "[Paragraph(id=None, references=[], text='Ionic thermoelectric paper - Journal of Materials Chemistry A (RSC Publishing) DOI:10.1039/C7TA03196C'),\n",
              " Paragraph(id='wrapper', references=[], text='View\\xa0PDF\\xa0VersionPrevious\\xa0ArticleNext\\xa0Article'),\n",
              " Paragraph(id='wrapper', references=[], text=' Open Access Article'),\n",
              " Paragraph(id='wrapper', references=[], text='\\nThis Open Access Article is licensed under a '),\n",
              " Paragraph(id='wrapper', references=[], text='Creative Commons Attribution 3.0 Unported Licence'),\n",
              " Paragraph(id='wrapper', references=[], text=' DOI:\\xa010.1039/C7TA03196C\\n(Paper)\\nJ. Mater. Chem. A, 2017, 5, 16883-16888'),\n",
              " Title(id='sect178', references=[], text='Ionic thermoelectric paper†'),\n",
              " Paragraph(id='wrapper', references=[], text='\\n\\nFei\\nJiao\\na,\\n\\nAli\\nNaderi\\nb,\\n\\nDan\\nZhao\\na,\\n\\nJoshua\\nSchlueter\\nc,\\n\\nMaryam\\nShahi\\nc,\\n\\nJonas\\nSundström\\nd,\\n\\nHjalmar\\nGranberg\\nd,\\n\\nJesper\\nEdberg\\na,\\n\\nUjwala\\nAil\\na,\\n\\nJoseph\\nBrill\\nc,\\n\\nTom\\nLindström\\nd,\\n\\nMagnus\\nBerggren\\na and \\n\\nXavier\\nCrispin\\n*a\\n'),\n",
              " Paragraph(id='affa', references=[], text='aDepartment of Science and Technology, Linköping Universitet, SE-60174, Norrköping, Sweden. E-mail: Xavier.crispin@liu.se\\n'),\n",
              " Paragraph(id='affb', references=[], text='bBillerudkorsnäs AB, SE-71880 Frövi, Sweden\\n'),\n",
              " Paragraph(id='affc', references=[], text='cDepartment of Physics and Astronomy, University of Kentucky, Lexington, KY 40506-0055, USA\\n'),\n",
              " Paragraph(id='affd', references=[], text='dInnventia AB, Box 5604, SE-11486 Stockholm, Sweden\\n'),\n",
              " Paragraph(id='art-admin', references=[], text='Received\\n12th April 2017\\n, Accepted 29th June 2017'),\n",
              " Paragraph(id='wrapper', references=[], text='First published on 30th June 2017'),\n",
              " Heading(id=None, references=[], text='Abstract'),\n",
              " Paragraph(id='wrapper', references=[], text='Ionic thermoelectric materials, for example, polyelectrolytes such as polystyrene sulfonate sodium (PSSNa), constitute a new class of materials which are attracting interest because of their large Seebeck coefficient and the possibility that they could be used in ionic thermoelectric SCs (ITESCs) and field effect transistors. However, pure polyelectrolyte membranes are not robust or flexible. In this paper, the preparation of ionic thermoelectric paper using a simple, scalable and cost-effective method is described. After a composite was fabricated with nanofibrillated cellulose (NFC), the resulting NFC–PSSNa paper is flexible and mechanically robust, which is desirable if it is to be used in roll-to-roll processes. The robust NFC–PSSNa thermoelectric paper combines high ionic conductivity (9 mS cm−1), high ionic Seebeck coefficient (8.4 mV K−1) and low thermal conductivity (0.75 W m−1 K−1) at 100% relative humidity, resulting in overall figure-of-merit of 0.025 at room temperature which is slightly better than that for the PSSNa alone. Fabricating a composite with cellulose enables flexibility and robustness and this is an advance which will enable future scaling up the manufacturing of ITESCs, but also enables its use for new applications for conformable thermoelectric devices and flexible electronics.'),\n",
              " Heading(id='sect292', references=[], text='Introduction'),\n",
              " Paragraph(id='wrapper', references=[], text='\\nAccess to clean and sustainable energy is of paramount importance for the development of human society. Typically, 60% of fossil energy is lost in waste heat. Today, various technologies have been proposed to harvest electricity from the largest energy source, the sun, but neither solar thermal plants nor photovoltaic power plants are that efficient and a large proportion of the solar radiation is lost in heat. Thus, several strategies are currently being explored beyond the use of heat engines in order to convert heat into electricity. One of these approaches is the thermoelectric generator (TEG).2,3 TEGs are defined as solid state devices that can convert heat (temperature differences) directly into electrical energy through a phenomenon called the Seebeck effect arising from the thermo-diffusion of electronic charge carriers in a material. The efficiency of a thermoelectric material is evaluated using a dimensionless quantity called the figure-of-merit, ZT = α2σT/κ, where α, σ, T and κ represent the Seebeck coefficient, the electrical conductivity, the absolute temperature and the thermal conductivity, respectively. Among the various types of material classes,3 organic electronic conducting polymers have attracted increased attention because they are based on abundant atomic elements and thus are potentially scalable at low cost. Despite the tremendous efforts and accomplishments of recent years,4–12 the efficiency of organic thermoelectric devices remains quite low because of their relatively small Seebeck coefficient. One possible strategy to increase the Seebeck coefficient of conducting polymers is to add solvent into the polymer to change its morphology.13 Whereas, another strategy is the addition of ionic thermodiffusion in mixed ionic-electronic conductors.14 Indeed, an ionic Seebeck contribution up to several hundreds of μV K−1 can be added to the electronic Seebeck coefficient. However, this effect vanishes with time because of the electronic reorganization. But if the electronic conducting paths are removed, for example, for pure ionic conductors, such as polystyrene sulfonic acid (PSSH), the ionic Seebeck coefficient was found to be extremely large and stable with time (∼a few mV K−1).15\\n'),\n",
              " Paragraph(id='wrapper', references=[], text='Recently, two classes of material have been explored for use in thermoelectricity: ionic conductors16–18 and electrolytes.19 A thermovoltage is developed in an ionic conductor submitted to a temperature difference because of the so-called Soret effect (thermodiffusion of ions). This new research area has been motivated by the use of the large ionic thermovoltage for example to (i) charge a SC leading to the so-called “ionic thermoelectric supercapacitors” (ITESCs)16 or (ii) to switch on/off transistors in “ionic thermoelectric transistors”.20 The ITESC is a single device comparable to an organic thermoelectric generator (OTEG) coupled in series with a supercapacitor (SC) of equivalent capacitance C. Importantly, because the ionic Seebeck coefficient of ionic conducting polymers (5 mV K−1)17 is about 100 times higher than the electronic Seebeck coefficient in electronic conducting polymers (50 μV K−1),4 the electrical energy E stored in an ITESC is 10000 times higher than in a SC coupled to an OTEG [E = 1/2C (αΔT)2]. A recent study shows that charging an ITESC can be compared with charging a TEG-SC based on the thermoelectric figure-of-merit ZT, which in the case of an ionic conductor implies that the electrical conductivity is solely because of ionic transport and the Seebeck coefficient is because of the thermodiffusion of ions.1 Interestingly, high ionic Seebeck coefficients were found for wet solid state polyelectrolytes such as polystyrene sulfonate sodium (PSSNa)1 and PSSH.17'),\n",
              " Paragraph(id='wrapper', references=[], text='Ideally the ionic thermoelectric material should be flexible, so that the ITESC is able to conform to the shape of any hot/cold objects (for example a pipe). Unfortunately polyelectrolytes are fragile and brittle. Also, making ionic thermoelectric materials robust would enable the use of a roll-to-roll machine for the production and assembly of the ITESC. ITESC and TEG are devices that produce a voltage proportional to the temperature difference. Thus, high voltage, i.e., high energy storage, is achievable if the material is thick and of low thermal conductivity. All these requirements need to be met as well as having a high ionic conductivity and high ionic Seebeck coefficient. One approach already demonstrated to strengthen the mechanical properties of materials is to make a composite with cellulose. Cellulose is attractive because it is a cheap, renewable and biodegradable material with good mechanical properties and is scalable for mass implementation.21 There have been many reports about fabricating composites with cellulose for use with electrical conductors for SC electrode,22 and electrolyte23 applications with excellent electronic and ionic conductivity. But no one has ever studied the thermoelectric properties of the cellulose-electrolyte.'),\n",
              " Paragraph(id='wrapper', references=[], text='In this research, a polymer nano-composite was fabricated using nanofibrillated cellulose (NFC), and the polyelectrolyte PSSNa and then its thermoelectric properties were characterized. The chemical structure of the biopolymer cellulose24 and PSSNa are illustrated in Fig. 1a. NFC is composed of cellulose polymer chains aggregated in nanofibers.25,26 They have several key properties which are of interest here: extraordinary mechanical properties,27 high transparency,28 lightweight29 and a large specific surface area.30 The NFC–PSSNa composite is mechanically robust and flexible compared to PSSNa. Despite the presence of NFC, the ionic conductivity and the ionic Seebeck coefficient of NFC–PSSNa is similar to PSSNa. Thus, this new composite is the first demonstration of ionic thermoelectric paper.'),\n",
              " Table(id=None, references=[], caption=''),\n",
              " Heading(id='sect348', references=[], text='Results and discussion'),\n",
              " Paragraph(id='wrapper', references=[], text='\\nThe PSSNa films were prepared by simply casting a water solution and letting the solvent evaporate. The NFC–PSSNa composite of same thickness (∼60 μm) as the PSSNa film was prepared from a NFC water dispersion, with addition of PSSNa and high boiling point solvents [glycerol, dimethylsulfoxide (DMSO)], then followed by casting and evaporation of the solvents. After peeling off the film, the estimated weight percent ratio of the composite film was 24.8% NFC, 53% PSSNa, and 22.2% of the remaining solvents. The role of the high boiling solvent was to remain in the film so that the nanofibers did not aggregate strongly with each other, but interstitial nanovoids remained filled with the high boiling point solvent in order to create percolation paths for the transport of ions.31\\n'),\n",
              " Paragraph(id='wrapper', references=[], text=\"The pure PSSNa film was extremely brittle, and it would crack even after drying. The addition of NFC as well as high boiling point solvents to PSSNa leads to a composite of improved mechanical properties: it was now flexible, foldable, and robust (Fig. 1a). Fig. 1b shows the tensile strength of NFC–PSSNa film at different strains and reaching a high value of tensile strength of σT = 16.6 ± 1.5 MPa. The calculated Young's modulus was E = 0.9 ± 0.1 GPa and the strain at break was εT = 10.2% ± 1.2, and the details are shown in Table S1 (ESI†). Although the parameter specification of the composite film is weaker than typical copy paper, the mechanical properties of the NFC–PSSNa film were sufficient for practical handling and could be processed in roll-to-roll machines.\"),\n",
              " Paragraph(id='wrapper', references=[], text='The atomic force microscopy (AFM) images of both films are shown in Fig. 2. The topography image displays a flat surface on the PSSNa film (Fig. 2a) whereas the NFC–PSSNa film is rough and likely to be porous (Fig. 2c). The phase image of the composite shows that the long chains of the cellulose nanofibrils arranged in parallel with the film surface with an individual diameter of about 10–20 nm. Note that the AFM images were taken on samples that had been dried to remove the high boiling point solvents. At the same time, the composite film was relatively transparent (60%), although this value was less than that of pure PSSNa (90%). This indicated that there was a low amount of aggregates which cause light scattering, and that the sample was homogeneous at the submicron scale (details for transparency see Fig. S1, ESI†).'),\n",
              " Table(id=None, references=[], caption=''),\n",
              " Paragraph(id='wrapper', references=[], text='Furthermore, impedance spectroscopy was used to study the ion transport in the paper. The impedance spectrum of composite films under different humidities was measured at room temperature (impedance and phase angle versus frequency as well as a Nyquist plot see Fig. S2 and S3, ESI†). Ionic conductivity was obtained from the real part of the impedance where the phase angle was near zero and was compared with the ionic conductivity of pure PSSNa.1 As shown in Fig. 3a, at 50% relative humidity (RH%), the ionic conductivity of NFC–PSSNa was about 0.04 mS cm−1, which was six times lower than that for PSSNa (0.26 mS cm−1). But the difference in ionic conductivity between these two materials decreased with the increase of humidity, reaching a value of 9 and 12 mS cm−1 for NFC–PSSNa and PSSNa, respectively. Thus, in spite of the introduction of NFC, the ionic conductivity of NFC–PSSNa still remained high. The ionic conductivity in PSSNa increased exponentially with the percentage of humidity in the chamber but was saturated at high humidity levels. This saturation has been explained by the formation of water percolation channels at high humidity.32 Because the ionic conductivity in NFC–PSSNa is as high as that of PSSNa in a humid environment, the ionic transport also occurred in the water percolation paths, but the absence of saturation suggested that the presence of NFC modified the formation of these percolation water channels.'),\n",
              " Table(id=None, references=[], caption=''),\n",
              " Paragraph(id='wrapper', references=[], text='The ionic Seebeck coefficient was also studied at room temperature with humidity from 50 to 100 RH%. At a fixed humidity, the open voltage of different temperature differences, ΔT, was measured and the Seebeck coefficient was calculated from the slope of the fitted curve (for details on open voltage and temperature differences as well as the linear fitting of the Seebeck coefficient see Fig. S4 and S5, ESI†). At ΔT = 0 K, the voltage was extremely small with NFC–PSSNa, whereas there was a residual voltage for PSSNa.1 As shown in Fig. 3b, the ionic Seebeck coefficient of NFC–PSSNa increased from 3 to 8.4 mV K−1 whereas the humidity increased from 50 to 100 RH%. This value was twice as large as that of pure PSSNa1 and was almost two orders higher than the electronic Seebeck coefficient of normal organic thermoelectric materials such as poly(3,4-ethylenedioxythiophene):polystyrene sulfonate (PEDOT:PSS).7'),\n",
              " Paragraph(id='wrapper', references=[], text='The in-plane thermal conductivity of NFC–PSSNa film was evaluated to obtain a comprehensive understanding of its thermoelectric properties. The room temperature specific heat, measured using differential scanning calorimetry (DSC),33 and thermal diffusivity,34,35 measured with AC-calorimetry, were found to be cP = (1.15 ± 0.10) J g−1 K−1 and D = (8.0 ± 0.8) × 10−3 cm2 s−1, respectively (see Fig. S6, ESI†). The uncertainties in D and cP reflected sample dependence, although for a given sample, values were found to be independent of heat treatment and it was assumed that the samples were essentially dehydrated. With the density ρ = (0.97 ± 0.04) g cm−3, the calculated value of the thermal conductivity was κ = DcPρ = (0.9 ± 0.2) W m−1 K−1. Although it was difficult to measure the thermal conductivity under different humidity conditions by these methods, the effects of hydration were estimated by assuming that water entered the films in microdomains large enough to use an effective medium theory36,37 for the composite, in particular assuming that the water domains primarily separate the nanofibers, leading to parallel paths of thermal transport. Then the composite thermal conductivity of hydrated NFC–PSSNa samples was given by κc ≈ κpϕp + κwϕw (κ and ϕ are the thermal conductivity and volume fraction of each material, respectively, and the subscripts c, p and w correspond to the composites, dry NFC–PSSNa, and water, respectively, where κw = 0.6 W m−1 K−1 (ref. 34)). The water content in the composite was measured under different humidity conditions (see Table S2, ESI†), and the water weight and volume fractions were taken to be essentially equal because the density of NFC–PSSNa ≈1 g cm−3. The calculated thermal conductivity of the composite and its comparison with pure PSSNa at 50–100 RH% are shown in Fig. 3c. The evolution of the thermal conductivity versus humidity level of PSSNa and NFC–PSSNa were opposite, reflecting the fact that PSSNa was more thermally insulating than water whereas NFC–PSSNa was less insulating. Finally, ZTi was plotted for both NFC–PSSNa and PSSNa1versus the humidity level and the plots are shown in Fig. 4d. The ZTi increased by more than three orders of magnitude with humidity. At low humidity, the ZTi of NFC–PSSNa (∼10−5) was almost 10 times larger than that of PSSNa because of its large αi. Whereas at higher humidity, the ZTi values of the two materials were similar and about 10−2.'),\n",
              " Table(id=None, references=[], caption=''),\n",
              " Paragraph(id='wrapper', references=[], text='Although ions cannot pass through an external circuit as electrons can, heat could be converted to electrical energy using the concept of ITESC. The performance of ionic thermoelectric materials can be compared with electronic thermoelectrics because an ITESC of capacitance C corresponds to the equivalent circuit of a TEG connected in series with a SC of same capacitance (see the inset of Fig. 4b). It has been demonstrated that the charging efficiency of the ITESC was related to the traditional thermoelectric figure-of-merit including the ionic conductivity and the ionic Seebeck coefficient.1 Thus, the two relevant device quantities were calculated: the efficiency η and the energy stored E as a function of ZTi. As shown in Fig. 4a, the efficiency of the NFC–PSSNa composite was slightly better than that of pure PSSNa, although still much lower than that of commercial bismuth telluride (Bi2Te3) (ZT = 1) because of its relatively small ZTi. But for the comparison of energy transferred to the SC with same ΔT (10 K) and same capacitance (1 mF), the NFC–PSSNa composite performances were much better than those of pure PSSNa and around three orders higher than those with Bi2Te3, as shown in Fig. 4b. The energy transferred to the SC is shown quadratically by αi (E = 1/2CV2 = 1/2C(ΔTαi)2), and the αi of NFC–PSSNa is much larger than that of the PSSNa over the whole range of humidity.'),\n",
              " Heading(id='sect497', references=[], text='Conclusions'),\n",
              " Paragraph(id='wrapper', references=[], text='\\nIn conclusion, the first ionic thermoelectric paper has been demonstrated by making a composite from nanofibrillated cellulose and a polyelectrolyte. The introduction of nanofibers of cellulose led to a robust nanocomposite, not fragile nor brittle as was the pure polyelectrolyte. The thermoelectric properties of the paper composite were as good as the pure polyelectrolyte (ZTi = 0.025 at room temperature). The ionic conductivity of the composite was almost the same as that of pure PSSNa at high humidity and its Seebeck coefficient was higher than that of pure PSSNa. The fabrication of ionic thermoelectric paper opens up new possibilities in term of mass manufacturing of materials for large area ionic thermoelectric SCs. Those devices are designed to convert thermal energy from intermittent heat sources into stored electricity.\\n'),\n",
              " Heading(id='sect502', references=[], text='Experimental'),\n",
              " Heading(id='sect504', references=[], text='Materials'),\n",
              " Paragraph(id='wrapper', references=[], text='\\nGlycerol, DMSO and PSSNa [molecular weight (Mw): 70000 g mol−1] were purchased from Sigma-Aldrich and used as received. NFC (1 wt%) was produced at Innventia AB, Sweden.\\n'),\n",
              " Heading(id='sect510', references=[], text='NFC manufacturing'),\n",
              " Paragraph(id='wrapper', references=[], text='\\nCarboxymethylated NFC was produced by chemically pre-treating wood pulp (trade name Dissolving Plus, supplier Domsjö Fabriker) followed by high-shear mechanical delamination. It was found that through carboxymethylation, anionic carboxymethyl groups were chemically grafted onto the nanofibrils. The charge density of the modified pulp was about 500 μmol g−1, as determined using conductometric studies.\\n'),\n",
              " Heading(id='sect514', references=[], text='Composites preparation'),\n",
              " Paragraph(id='wrapper', references=[], text='\\nThe concentration of the NFC dispersion was diluted to 0.3 wt% before use. A NFC–PSSNa composite film was prepared by mixing PSSNa, NFC solution, glycerol and DMSO at a solid content (excluding water) weight ratio of 13.9/6.5/8.5/71.1. The mixture was homogenized for several minutes using a T10 basic ULTRA-TURRAX (IKA). The blend was then mixed ultrasonically in an ultrasonic bath for 10 min which was then followed by degassing for 1 h in a vacuum desiccator. Free-standing composite films were then prepared by pouring the NFC–PSSNa dispersions into plastic dishes with a diameter of 5.5 cm and then drying them at 60 °C for 24 h. After drying, the films were peeled off and cut into different shapes for the various measurements.\\n'),\n",
              " Heading(id='sect517', references=[], text='Characterization'),\n",
              " Paragraph(id='wrapper', references=[], text='\\nThe in-plane ionic conductivity of the NFC–PSSNa composite films were measured using an Alpha high-resolution dielectric analyzer for the impedance spectrometry (Novocontrol Technologies GmbH) with a two-probe method. The impedance spectra were recorded with an AC voltage of 5 mV while sweeping the frequency from 1 MHz to 0.1 Hz. The samples were put inside a humidity chamber and the measurement was done at room temperature at humidity levels from 50 to 100 RH%. The ionic conductivity was calculated from the real part of the impedance where the phase angle was near zero.\\n'),\n",
              " Paragraph(id='wrapper', references=[], text='The Seebeck coefficient of the composite films was measured at different humidities inside a humidity chamber at room temperature. The voltage difference between the two electrodes was recorded using a model 2182A nanovoltmeter (ΔV) (Keithley Instruments, Inc) and the temperature difference (ΔT) between the two electrodes was evaluated using the thermocouples and measured using a Model 2000 multimeter (Keithley Instruments, Inc). At each humidity, different sets of high and low temperatures with an average of 22.5 °C were applied and the Seebeck coefficient was extracted from the slope of the linear fitted voltage versus temperature difference curves.'),\n",
              " Paragraph(id='wrapper', references=[], text='The specific heats of the samples were measured using DSC at room temperature and the thermal diffusivity, D ≡ κ/ρcP and thermal conductivity κ (in the plane of the film) were measured using the AC-calorimetric technique of Hatta et al.34 In this technique, the sample was heated with chopped white light, which was partly blocked by a screen and the oscillating temperature on the reverse surface was measured with a thermocouple. Because the samples were white and translucent, a 0.3 μm film of lead sulfide was evaporated on the front surface to absorb the light. The diffusivity was determined by the variation of the oscillating thermocouple voltage with position, D = πf/(dln(Vac)/dx)2 (the saturation of the signal for large x0 − x which was because of the edge of the screen reaching the thermocouple glue and the deviations from the linear behavior for small x0 − x were because of the signal approaching the noise level).'),\n",
              " Paragraph(id='wrapper', references=[], text='The transmittance spectra were acquired with a Lambda 900 UV-vis spectrophotometer (PerkinElmer instruments) at room temperature in the range of 400–800 nm.'),\n",
              " Paragraph(id='wrapper', references=[], text='AFM measurement was performed using a Dimension 3100 microscope (Bruker) under ambient conditions with a scan size of 1 × 1 μm.'),\n",
              " Paragraph(id='wrapper', references=[], text='For tensile testing, 30 μm thick samples were cut into 30 × 15 mm test pieces which were measured in a tensile tester (MTS) with the pulling speed of 30 mm (100%)/min = 0.5 mm s−1 at 23 °C and 50 RH%. Data for eight separate samples were collected to monitor statistical variations.'),\n",
              " Heading(id='sect549', references=[], text='Acknowledgements'),\n",
              " Paragraph(id='wrapper', references=[], text='\\nA. N., H. J., J. S. and T. L. contributed to the support of NFC gel and mechanical measurement. D. Z. contributed to AFM. J. S., M. S. and J. B. contributed to the thermal conductivity measurements. J. E. and U. A. contributed to composite preparation and impedance measurements. The authors acknowledge the European Research Council (ERC Starting Grant 307596), the Swedish Foundation for Strategic Research (SSF), the Knut and Alice Wallenberg foundation (KAW), the Swedish Energy Agency, the Advanced Functional Materials Centre at Linköping University and the United States National Science Foundation (Grant No. DMR-1262261). The authors also wish to thank Thor Balkhed from Linköping University for help with the photography.\\n\\n'),\n",
              " Heading(id='sect548', references=[], text='References'),\n",
              " Paragraph(id='cit1', references=[], text='H. Wang, D. Zhao, Z. U. Khan, S. Puzinas, M. P. Jonsson, M. Berggren and X. Crispin, Adv. Electron. Mater., 2017, 1700013, \\xa0DOI:10.1002/aelm.201700013.'),\n",
              " Paragraph(id='cit2', references=[], text='F. J. DiSalvo, Science, 1999, 285, 703–706\\xa0CrossRef\\xa0CAS\\xa0PubMed.'),\n",
              " Paragraph(id='cit3', references=[], text='G. J. Snyder and E. S. Toberer, Nat. Mater., 2008, 7, 105–114\\xa0CrossRef\\xa0CAS\\xa0PubMed.'),\n",
              " Paragraph(id='cit4', references=[], text='O. Bubnova, Z. U. Khan, A. Malti, S. Braun, M. Fahlman, M. Berggren and X. Crispin, Nat. Mater., 2011, 10, 429–433\\xa0CrossRef\\xa0CAS\\xa0PubMed.'),\n",
              " Paragraph(id='cit5', references=[], text='Q. Zhang, Y. M. Sun, W. Xu and D. B. Zhu, Adv. Mater., 2014, 26, 6829–6851\\xa0CrossRef\\xa0CAS\\xa0PubMed.'),\n",
              " Paragraph(id='cit6', references=[], text='G. H. Kim, L. Shao, K. Zhang and K. P. Pipe, Nat. Mater., 2013, 12, 719–723\\xa0CrossRef\\xa0CAS\\xa0PubMed.'),\n",
              " Paragraph(id='cit7', references=[], text='O. Bubnova and X. Crispin, Energy Environ. Sci., 2012, 5, 9345–9362\\xa0CAS.'),\n",
              " Paragraph(id='cit8', references=[], text='Y. Sun, P. Sheng, C. Di, F. Jiao, W. Xu, D. Qiu and D. Zhu, Adv. Mater., 2012, 24, 932–937\\xa0CrossRef\\xa0CAS\\xa0PubMed.'),\n",
              " Paragraph(id='cit9', references=[], text='Y. Sun, L. Qiu, L. Tang, H. Geng, H. Wang, F. Zhang, D. Huang, W. Xu, P. Yue, Y. S. Guan, F. Jiao, Y. Sun, D. Tang, C. A. Di, Y. Yi and D. Zhu, Adv. Mater., 2016, 28, 3351–3358\\xa0CrossRef\\xa0CAS\\xa0PubMed.'),\n",
              " Paragraph(id='cit10', references=[], text='N. Toshima, K. Oshima, H. Anno, T. Nishinaka, S. Ichikawa, A. Iwata and Y. Shiraishi, Adv. Mater., 2015, 27, 2246–2251\\xa0CrossRef\\xa0CAS\\xa0PubMed.'),\n",
              " Paragraph(id='cit11', references=[], text='B. T. McGrail, A. Sehirlioglu and E. Pentzer, Angew. Chem., Int. Ed., 2015, 54, 1710–1723\\xa0CrossRef\\xa0CAS\\xa0PubMed.'),\n",
              " Paragraph(id='cit12', references=[], text='N. Toshima, Synth. Met., 2017, 225, 3–21\\xa0CrossRef\\xa0CAS.'),\n",
              " Paragraph(id='cit13', references=[], text='Q. Wei, M. Mukaida, K. Kirihara, Y. Naitoh and T. Ishida, Appl. Phys. Express, 2014, 7, 031601\\xa0CrossRef.'),\n",
              " Paragraph(id='cit14', references=[], text='H. Wang, U. Ail, R. Gabrielsson, M. Berggren and X. Crispin, Adv. Energy Mater., 2015, 5, 1500044\\xa0CrossRef.'),\n",
              " Paragraph(id='cit15', references=[], text='U. Ail, M. J. Jafari, H. Wang, T. Ederth, M. Berggren and X. Crispin, Adv. Funct. Mater., 2016, 26, 6288–6296\\xa0CrossRef\\xa0CAS.'),\n",
              " Paragraph(id='cit16', references=[], text='D. Zhao, H. Wang, Z. U. Khan, J. C. Chen, R. Gabrielsson, M. P. Jonsson, M. Berggren and X. Crispin, Energy Environ. Sci., 2016, 9, 1450–1457\\xa0CAS.'),\n",
              " Paragraph(id='cit17', references=[], text='S. L. Kim, H. T. Lin and C. Yu, Adv. Energy Mater., 2016, 6, 1600546\\xa0CrossRef.'),\n",
              " Paragraph(id='cit18', references=[], text='W. B. Chang, C. M. Evans, B. C. Popere, B. M. Russ, J. Liu, J. Newman and R. A. Segalman, ACS Macro Lett., 2016, 5, 94–98\\xa0CrossRef\\xa0CAS.'),\n",
              " Paragraph(id='cit19', references=[], text='M. Bonetti, S. Nakamae, M. Roger and P. Guenoun, J. Chem. Phys., 2011, 134, 114513\\xa0CrossRef\\xa0CAS\\xa0PubMed.'),\n",
              " Paragraph(id='cit20', references=[], text='D. Zhao, S. Fabiano, M. Berggren and X. Crispin, Nat. Commun., 2017, 8, 14214\\xa0CrossRef\\xa0CAS\\xa0PubMed.'),\n",
              " Paragraph(id='cit21', references=[], text='M. M. Perez-Madrigal, M. G. Edo and C. Aleman, Green Chem., 2016, 18, 5930–5956\\xa0RSC.'),\n",
              " Paragraph(id='cit22', references=[], text='K. Gao, Z. Shao, J. Li, X. Wang, X. Peng, W. Wang and F. Wang, J. Mater. Chem. A, 2013, 1, 63–67\\xa0CAS.'),\n",
              " Paragraph(id='cit23', references=[], text='Y. N. Sudhakar, M. Selvakumar and D. K. Bhat, Mater. Renew. Sustain. Energy, 2015, 4, 10\\xa0CrossRef.'),\n",
              " Paragraph(id='cit24', references=[], text='Z. Gui, H. Zhu, E. Gillette, X. Han, G. W. Rubloff, L. Hu and S. B. Lee, ACS Nano, 2013, 7, 6037–6046\\xa0CrossRef\\xa0CAS\\xa0PubMed.'),\n",
              " Paragraph(id='cit25', references=[], text='H. P. Abdul Khalil, Y. Davoudpour, M. N. Islam, A. Mustapha, K. Sudesh, R. Dungani and M. Jawaid, Carbohydr. Polym., 2014, 99, 649–665\\xa0CrossRef\\xa0CAS\\xa0PubMed.'),\n",
              " Paragraph(id='cit26', references=[], text='S. Kalia, S. Boufi, A. Celli and S. Kango, Colloid Polym. Sci., 2014, 292, 5–31\\xa0CAS.'),\n",
              " Paragraph(id='cit27', references=[], text='T. Saito, R. Kuramae, J. Wohlert, L. A. Berglund and A. Isogai, Biomacromolecules, 2013, 14, 248–253\\xa0CrossRef\\xa0CAS\\xa0PubMed.'),\n",
              " Paragraph(id='cit28', references=[], text='Y. Y. Li, H. L. Zhu, H. B. Gu, H. Q. Dai, Z. Q. Fang, N. J. Weadock, Z. H. Guo and L. B. Hu, J. Mater. Chem. A, 2013, 1, 15278–15283\\xa0CAS.'),\n",
              " Paragraph(id='cit29', references=[], text='N. T. Cervin, L. Andersson, J. B. Ng, P. Olin, L. Bergstrom and L. Wagberg, Biomacromolecules, 2013, 14, 503–511\\xa0CrossRef\\xa0CAS\\xa0PubMed.'),\n",
              " Paragraph(id='cit30', references=[], text='H. Sehaqui, Q. Zhou, O. Ikkala and L. A. Berglund, Biomacromolecules, 2011, 12, 3638–3644\\xa0CrossRef\\xa0CAS\\xa0PubMed.'),\n",
              " Paragraph(id='cit31', references=[], text='A. Malti, J. Edberg, H. Granberg, Z. U. Khan, J. W. Andreasen, X. Liu, D. Zhao, H. Zhang, Y. Yao, J. W. Brill, I. Engquist, M. Fahlman, L. Wagberg, X. Crispin and M. Berggren, Adv. Sci., 2016, 3, 1500305\\xa0CrossRef\\xa0PubMed.'),\n",
              " Paragraph(id='cit32', references=[], text='J. Feng, Y. Q. Huang, Z. K. Tu, H. N. Zhang, M. Pan and H. L. Tang, Sci. Rep., 2014, 4, 6225\\xa0CrossRef\\xa0PubMed.'),\n",
              " Paragraph(id='cit33', references=[], text='Y. Q. Wang, M. Chung, T. N. Oneal and J. W. Brill, Synth. Met., 1992, 46, 307–316\\xa0CrossRef\\xa0CAS.'),\n",
              " Paragraph(id='cit34', references=[], text='I. Hatta, Y. Sasuga, R. Kato and A. Maesono, Rev. Sci. Instrum., 1985, 56, 1643–1647\\xa0CrossRef\\xa0CAS.'),\n",
              " Paragraph(id='cit35', references=[], text='H. Zhang, Y. Yao, M. M. Payne, J. E. Anthony and J. W. Brill, Appl. Phys. Lett., 2014, 105, 073302\\xa0CrossRef.'),\n",
              " Paragraph(id='cit36', references=[], text='L. L. Gong, Y. H. Wang, X. D. Cheng, R. F. Zhang and H. P. Zhang, Int. J. Heat Mass Transfer, 2014, 68, 295–298\\xa0CrossRef.'),\n",
              " Paragraph(id='cit37', references=[], text='A. Leach, J. Phys. D: Appl. Phys., 1993, 26, 733\\xa0CrossRef\\xa0CAS.'),\n",
              " Table(id=None, references=[], caption=''),\n",
              " Table(id=None, references=[], caption='')]"
            ]
          },
          "metadata": {},
          "execution_count": 41
        }
      ]
    },
    {
      "cell_type": "code",
      "source": [
        "para=doc.elements[23]"
      ],
      "metadata": {
        "id": "U_f50DRLAwR9"
      },
      "execution_count": 51,
      "outputs": []
    },
    {
      "cell_type": "code",
      "source": [
        "print(para)"
      ],
      "metadata": {
        "colab": {
          "base_uri": "https://localhost:8080/"
        },
        "id": "yHZY6MsXBESM",
        "outputId": "9c1e62e2-c67d-4086-99df-079f10cc109a"
      },
      "execution_count": 52,
      "outputs": [
        {
          "output_type": "stream",
          "name": "stdout",
          "text": [
            "\n",
            "The PSSNa films were prepared by simply casting a water solution and letting the solvent evaporate. The NFC–PSSNa composite of same thickness (∼60 μm) as the PSSNa film was prepared from a NFC water dispersion, with addition of PSSNa and high boiling point solvents [glycerol, dimethylsulfoxide (DMSO)], then followed by casting and evaporation of the solvents. After peeling off the film, the estimated weight percent ratio of the composite film was 24.8% NFC, 53% PSSNa, and 22.2% of the remaining solvents. The role of the high boiling solvent was to remain in the film so that the nanofibers did not aggregate strongly with each other, but interstitial nanovoids remained filled with the high boiling point solvent in order to create percolation paths for the transport of ions.31\n",
            "\n"
          ]
        }
      ]
    },
    {
      "cell_type": "code",
      "source": [
        "para.sentences"
      ],
      "metadata": {
        "colab": {
          "base_uri": "https://localhost:8080/"
        },
        "id": "7mGXznb0BE_B",
        "outputId": "356bcb26-ce24-4500-aa20-9b73e213907b"
      },
      "execution_count": 53,
      "outputs": [
        {
          "output_type": "execute_result",
          "data": {
            "text/plain": [
              "[Sentence('\\nThe PSSNa films were prepared by simply casting a water solution and letting the solvent evaporate.', 0, 100),\n",
              " Sentence('The NFC–PSSNa composite of same thickness (∼60 μm) as the PSSNa film was prepared from a NFC water dispersion, with addition of PSSNa and high boiling point solvents [glycerol, dimethylsulfoxide (DMSO)], then followed by casting and evaporation of the solvents.', 101, 362),\n",
              " Sentence('After peeling off the film, the estimated weight percent ratio of the composite film was 24.8% NFC, 53% PSSNa, and 22.2% of the remaining solvents.', 363, 510),\n",
              " Sentence('The role of the high boiling solvent was to remain in the film so that the nanofibers did not aggregate strongly with each other, but interstitial nanovoids remained filled with the high boiling point solvent in order to create percolation paths for the transport of ions.31', 511, 785)]"
            ]
          },
          "metadata": {},
          "execution_count": 53
        }
      ]
    },
    {
      "cell_type": "code",
      "source": [
        "para.tokens"
      ],
      "metadata": {
        "colab": {
          "base_uri": "https://localhost:8080/"
        },
        "id": "QuuIM740BflO",
        "outputId": "5213bd14-7ba0-4b78-cee9-ab45295e01d0"
      },
      "execution_count": 54,
      "outputs": [
        {
          "output_type": "execute_result",
          "data": {
            "text/plain": [
              "[[Token('The', 1, 4),\n",
              "  Token('PSSNa', 5, 10),\n",
              "  Token('films', 11, 16),\n",
              "  Token('were', 17, 21),\n",
              "  Token('prepared', 22, 30),\n",
              "  Token('by', 31, 33),\n",
              "  Token('simply', 34, 40),\n",
              "  Token('casting', 41, 48),\n",
              "  Token('a', 49, 50),\n",
              "  Token('water', 51, 56),\n",
              "  Token('solution', 57, 65),\n",
              "  Token('and', 66, 69),\n",
              "  Token('letting', 70, 77),\n",
              "  Token('the', 78, 81),\n",
              "  Token('solvent', 82, 89),\n",
              "  Token('evaporate', 90, 99),\n",
              "  Token('.', 99, 100)],\n",
              " [Token('The', 101, 104),\n",
              "  Token('NFC', 105, 108),\n",
              "  Token('–', 108, 109),\n",
              "  Token('PSSNa', 109, 114),\n",
              "  Token('composite', 115, 124),\n",
              "  Token('of', 125, 127),\n",
              "  Token('same', 128, 132),\n",
              "  Token('thickness', 133, 142),\n",
              "  Token('(', 143, 144),\n",
              "  Token('∼', 144, 145),\n",
              "  Token('60', 145, 147),\n",
              "  Token('μm', 148, 150),\n",
              "  Token(')', 150, 151),\n",
              "  Token('as', 152, 154),\n",
              "  Token('the', 155, 158),\n",
              "  Token('PSSNa', 159, 164),\n",
              "  Token('film', 165, 169),\n",
              "  Token('was', 170, 173),\n",
              "  Token('prepared', 174, 182),\n",
              "  Token('from', 183, 187),\n",
              "  Token('a', 188, 189),\n",
              "  Token('NFC', 190, 193),\n",
              "  Token('water', 194, 199),\n",
              "  Token('dispersion', 200, 210),\n",
              "  Token(',', 210, 211),\n",
              "  Token('with', 212, 216),\n",
              "  Token('addition', 217, 225),\n",
              "  Token('of', 226, 228),\n",
              "  Token('PSSNa', 229, 234),\n",
              "  Token('and', 235, 238),\n",
              "  Token('high', 239, 243),\n",
              "  Token('boiling', 244, 251),\n",
              "  Token('point', 252, 257),\n",
              "  Token('solvents', 258, 266),\n",
              "  Token('[', 267, 268),\n",
              "  Token('glycerol', 268, 276),\n",
              "  Token(',', 276, 277),\n",
              "  Token('dimethylsulfoxide', 278, 295),\n",
              "  Token('(', 296, 297),\n",
              "  Token('DMSO', 297, 301),\n",
              "  Token(')', 301, 302),\n",
              "  Token(']', 302, 303),\n",
              "  Token(',', 303, 304),\n",
              "  Token('then', 305, 309),\n",
              "  Token('followed', 310, 318),\n",
              "  Token('by', 319, 321),\n",
              "  Token('casting', 322, 329),\n",
              "  Token('and', 330, 333),\n",
              "  Token('evaporation', 334, 345),\n",
              "  Token('of', 346, 348),\n",
              "  Token('the', 349, 352),\n",
              "  Token('solvents', 353, 361),\n",
              "  Token('.', 361, 362)],\n",
              " [Token('After', 363, 368),\n",
              "  Token('peeling', 369, 376),\n",
              "  Token('off', 377, 380),\n",
              "  Token('the', 381, 384),\n",
              "  Token('film', 385, 389),\n",
              "  Token(',', 389, 390),\n",
              "  Token('the', 391, 394),\n",
              "  Token('estimated', 395, 404),\n",
              "  Token('weight', 405, 411),\n",
              "  Token('percent', 412, 419),\n",
              "  Token('ratio', 420, 425),\n",
              "  Token('of', 426, 428),\n",
              "  Token('the', 429, 432),\n",
              "  Token('composite', 433, 442),\n",
              "  Token('film', 443, 447),\n",
              "  Token('was', 448, 451),\n",
              "  Token('24.8', 452, 456),\n",
              "  Token('%', 456, 457),\n",
              "  Token('NFC', 458, 461),\n",
              "  Token(',', 461, 462),\n",
              "  Token('53', 463, 465),\n",
              "  Token('%', 465, 466),\n",
              "  Token('PSSNa', 467, 472),\n",
              "  Token(',', 472, 473),\n",
              "  Token('and', 474, 477),\n",
              "  Token('22.2', 478, 482),\n",
              "  Token('%', 482, 483),\n",
              "  Token('of', 484, 486),\n",
              "  Token('the', 487, 490),\n",
              "  Token('remaining', 491, 500),\n",
              "  Token('solvents', 501, 509),\n",
              "  Token('.', 509, 510)],\n",
              " [Token('The', 511, 514),\n",
              "  Token('role', 515, 519),\n",
              "  Token('of', 520, 522),\n",
              "  Token('the', 523, 526),\n",
              "  Token('high', 527, 531),\n",
              "  Token('boiling', 532, 539),\n",
              "  Token('solvent', 540, 547),\n",
              "  Token('was', 548, 551),\n",
              "  Token('to', 552, 554),\n",
              "  Token('remain', 555, 561),\n",
              "  Token('in', 562, 564),\n",
              "  Token('the', 565, 568),\n",
              "  Token('film', 569, 573),\n",
              "  Token('so', 574, 576),\n",
              "  Token('that', 577, 581),\n",
              "  Token('the', 582, 585),\n",
              "  Token('nanofibers', 586, 596),\n",
              "  Token('did', 597, 600),\n",
              "  Token('not', 601, 604),\n",
              "  Token('aggregate', 605, 614),\n",
              "  Token('strongly', 615, 623),\n",
              "  Token('with', 624, 628),\n",
              "  Token('each', 629, 633),\n",
              "  Token('other', 634, 639),\n",
              "  Token(',', 639, 640),\n",
              "  Token('but', 641, 644),\n",
              "  Token('interstitial', 645, 657),\n",
              "  Token('nanovoids', 658, 667),\n",
              "  Token('remained', 668, 676),\n",
              "  Token('filled', 677, 683),\n",
              "  Token('with', 684, 688),\n",
              "  Token('the', 689, 692),\n",
              "  Token('high', 693, 697),\n",
              "  Token('boiling', 698, 705),\n",
              "  Token('point', 706, 711),\n",
              "  Token('solvent', 712, 719),\n",
              "  Token('in', 720, 722),\n",
              "  Token('order', 723, 728),\n",
              "  Token('to', 729, 731),\n",
              "  Token('create', 732, 738),\n",
              "  Token('percolation', 739, 750),\n",
              "  Token('paths', 751, 756),\n",
              "  Token('for', 757, 760),\n",
              "  Token('the', 761, 764),\n",
              "  Token('transport', 765, 774),\n",
              "  Token('of', 775, 777),\n",
              "  Token('ions.31', 778, 785)]]"
            ]
          },
          "metadata": {},
          "execution_count": 54
        }
      ]
    },
    {
      "cell_type": "code",
      "source": [
        ""
      ],
      "metadata": {
        "id": "1ZNa-VX_Bou0"
      },
      "execution_count": null,
      "outputs": []
    }
  ]
}